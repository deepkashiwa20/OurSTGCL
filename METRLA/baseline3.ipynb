{
 "cells": [
  {
   "cell_type": "code",
   "execution_count": 1,
   "id": "ab3064b2-b09e-4d24-991c-68e06a39b994",
   "metadata": {},
   "outputs": [],
   "source": [
    "import pandas as pd\n",
    "import numpy as np\n",
    "import torch\n",
    "import matplotlib.pyplot as plt"
   ]
  },
  {
   "cell_type": "code",
   "execution_count": 3,
   "id": "4d68b36d-1d69-43d0-87f3-4a3172c90545",
   "metadata": {},
   "outputs": [],
   "source": [
    "def masked_rmse(y_pred, y_true):\n",
    "    with np.errstate(divide=\"ignore\", invalid=\"ignore\"):\n",
    "        mask = np.not_equal(y_true, 0)\n",
    "        mask = mask.astype(np.float32)\n",
    "        mask /= np.mean(mask)\n",
    "        rmse = np.square(np.abs(y_pred - y_true))\n",
    "        rmse = np.nan_to_num(rmse * mask)\n",
    "        rmse = np.sqrt(np.mean(rmse))\n",
    "        return rmse\n",
    "\n",
    "def masked_mae(y_pred, y_true):\n",
    "    with np.errstate(divide=\"ignore\", invalid=\"ignore\"):\n",
    "        mask = np.not_equal(y_true, 0)\n",
    "        mask = mask.astype(np.float32)\n",
    "        mask /= np.mean(mask)\n",
    "        mae = np.abs(y_pred - y_true)\n",
    "        mae = np.nan_to_num(mae * mask)\n",
    "        mae = np.mean(mae)\n",
    "        return mae\n",
    "\n",
    "def masked_mape(y_pred, y_true, null_val=0):\n",
    "    with np.errstate(divide=\"ignore\", invalid=\"ignore\"):\n",
    "        if np.isnan(null_val):\n",
    "            mask = ~np.isnan(y_true)\n",
    "        else:\n",
    "            mask = np.not_equal(y_true, null_val)\n",
    "        mask = mask.astype(\"float32\")\n",
    "        mask /= np.mean(mask)\n",
    "        mape = np.abs(np.divide((y_pred - y_true).astype(\"float32\"), y_true))\n",
    "        mape = np.nan_to_num(mask * mape)\n",
    "        return np.mean(mape)"
   ]
  },
  {
   "cell_type": "code",
   "execution_count": 4,
   "id": "9991c8cf-a793-40ce-bee4-e0a6703937c9",
   "metadata": {},
   "outputs": [],
   "source": [
    "def masked_mae_loss(y_pred, y_true):\n",
    "    mask = (y_true != 0).float()\n",
    "    mask /= mask.mean()\n",
    "    loss = torch.abs(y_pred - y_true)\n",
    "    loss = loss * mask\n",
    "    # trick for nans: https://discuss.pytorch.org/t/how-to-set-nan-in-tensor-to-0/3918/3\n",
    "    loss[loss != loss] = 0\n",
    "    return loss.mean()\n",
    "\n",
    "def masked_mape_loss(y_pred, y_true):\n",
    "    mask = (y_true != 0).float()\n",
    "    mask /= mask.mean()\n",
    "    loss = torch.abs(torch.div(y_true - y_pred, y_true))\n",
    "    loss = loss * mask\n",
    "    # trick for nans: https://discuss.pytorch.org/t/how-to-set-nan-in-tensor-to-0/3918/3\n",
    "    loss[loss != loss] = 0\n",
    "    return loss.mean()\n",
    "\n",
    "def masked_rmse_loss(y_pred, y_true):\n",
    "    mask = (y_true != 0).float()\n",
    "    mask /= mask.mean()\n",
    "    loss = torch.pow(y_true - y_pred, 2)\n",
    "    loss = loss * mask\n",
    "    # trick for nans: https://discuss.pytorch.org/t/how-to-set-nan-in-tensor-to-0/3918/3\n",
    "    loss[loss != loss] = 0\n",
    "    return torch.sqrt(loss.mean())"
   ]
  },
  {
   "cell_type": "code",
   "execution_count": 5,
   "id": "c349e4de-c671-4cc6-bbc3-2eb3a9a7fd06",
   "metadata": {},
   "outputs": [
    {
     "data": {
      "text/html": [
       "<div>\n",
       "<style scoped>\n",
       "    .dataframe tbody tr th:only-of-type {\n",
       "        vertical-align: middle;\n",
       "    }\n",
       "\n",
       "    .dataframe tbody tr th {\n",
       "        vertical-align: top;\n",
       "    }\n",
       "\n",
       "    .dataframe thead th {\n",
       "        text-align: right;\n",
       "    }\n",
       "</style>\n",
       "<table border=\"1\" class=\"dataframe\">\n",
       "  <thead>\n",
       "    <tr style=\"text-align: right;\">\n",
       "      <th></th>\n",
       "      <th>timestamp</th>\n",
       "      <th>sensorid</th>\n",
       "      <th>speed</th>\n",
       "      <th>weekdaytime</th>\n",
       "      <th>speed_y</th>\n",
       "    </tr>\n",
       "  </thead>\n",
       "  <tbody>\n",
       "    <tr>\n",
       "      <th>0</th>\n",
       "      <td>2012-03-01 00:00:00</td>\n",
       "      <td>773869</td>\n",
       "      <td>64.375000</td>\n",
       "      <td>0.428784</td>\n",
       "      <td>63.132937</td>\n",
       "    </tr>\n",
       "    <tr>\n",
       "      <th>1</th>\n",
       "      <td>2012-03-01 00:00:00</td>\n",
       "      <td>767541</td>\n",
       "      <td>67.625000</td>\n",
       "      <td>0.428784</td>\n",
       "      <td>64.867063</td>\n",
       "    </tr>\n",
       "    <tr>\n",
       "      <th>2</th>\n",
       "      <td>2012-03-01 00:00:00</td>\n",
       "      <td>767542</td>\n",
       "      <td>67.125000</td>\n",
       "      <td>0.428784</td>\n",
       "      <td>66.170635</td>\n",
       "    </tr>\n",
       "    <tr>\n",
       "      <th>3</th>\n",
       "      <td>2012-03-01 00:00:00</td>\n",
       "      <td>717447</td>\n",
       "      <td>61.500000</td>\n",
       "      <td>0.428784</td>\n",
       "      <td>61.943452</td>\n",
       "    </tr>\n",
       "    <tr>\n",
       "      <th>4</th>\n",
       "      <td>2012-03-01 00:00:00</td>\n",
       "      <td>717446</td>\n",
       "      <td>66.875000</td>\n",
       "      <td>0.428784</td>\n",
       "      <td>65.241071</td>\n",
       "    </tr>\n",
       "    <tr>\n",
       "      <th>...</th>\n",
       "      <td>...</td>\n",
       "      <td>...</td>\n",
       "      <td>...</td>\n",
       "      <td>...</td>\n",
       "      <td>...</td>\n",
       "    </tr>\n",
       "    <tr>\n",
       "      <th>7094299</th>\n",
       "      <td>2012-06-27 23:55:00</td>\n",
       "      <td>717592</td>\n",
       "      <td>66.444444</td>\n",
       "      <td>0.428288</td>\n",
       "      <td>62.377595</td>\n",
       "    </tr>\n",
       "    <tr>\n",
       "      <th>7094300</th>\n",
       "      <td>2012-06-27 23:55:00</td>\n",
       "      <td>717595</td>\n",
       "      <td>68.444444</td>\n",
       "      <td>0.428288</td>\n",
       "      <td>66.349054</td>\n",
       "    </tr>\n",
       "    <tr>\n",
       "      <th>7094301</th>\n",
       "      <td>2012-06-27 23:55:00</td>\n",
       "      <td>772168</td>\n",
       "      <td>63.555556</td>\n",
       "      <td>0.428288</td>\n",
       "      <td>64.207723</td>\n",
       "    </tr>\n",
       "    <tr>\n",
       "      <th>7094302</th>\n",
       "      <td>2012-06-27 23:55:00</td>\n",
       "      <td>718141</td>\n",
       "      <td>68.666667</td>\n",
       "      <td>0.428288</td>\n",
       "      <td>66.785409</td>\n",
       "    </tr>\n",
       "    <tr>\n",
       "      <th>7094303</th>\n",
       "      <td>2012-06-27 23:55:00</td>\n",
       "      <td>769373</td>\n",
       "      <td>61.777778</td>\n",
       "      <td>0.428288</td>\n",
       "      <td>61.062118</td>\n",
       "    </tr>\n",
       "  </tbody>\n",
       "</table>\n",
       "<p>7094304 rows × 5 columns</p>\n",
       "</div>"
      ],
      "text/plain": [
       "                   timestamp  sensorid      speed  weekdaytime    speed_y\n",
       "0        2012-03-01 00:00:00    773869  64.375000     0.428784  63.132937\n",
       "1        2012-03-01 00:00:00    767541  67.625000     0.428784  64.867063\n",
       "2        2012-03-01 00:00:00    767542  67.125000     0.428784  66.170635\n",
       "3        2012-03-01 00:00:00    717447  61.500000     0.428784  61.943452\n",
       "4        2012-03-01 00:00:00    717446  66.875000     0.428784  65.241071\n",
       "...                      ...       ...        ...          ...        ...\n",
       "7094299  2012-06-27 23:55:00    717592  66.444444     0.428288  62.377595\n",
       "7094300  2012-06-27 23:55:00    717595  68.444444     0.428288  66.349054\n",
       "7094301  2012-06-27 23:55:00    772168  63.555556     0.428288  64.207723\n",
       "7094302  2012-06-27 23:55:00    718141  68.666667     0.428288  66.785409\n",
       "7094303  2012-06-27 23:55:00    769373  61.777778     0.428288  61.062118\n",
       "\n",
       "[7094304 rows x 5 columns]"
      ]
     },
     "execution_count": 5,
     "metadata": {},
     "output_type": "execute_result"
    }
   ],
   "source": [
    "df_plus = pd.read_csv('../METRLA/metr-la.csv.gz')\n",
    "df_plus"
   ]
  },
  {
   "cell_type": "code",
   "execution_count": 7,
   "id": "e487e6c1-6f77-4272-a231-60863b3c8881",
   "metadata": {},
   "outputs": [
    {
     "name": "stdout",
     "output_type": "stream",
     "text": [
      "(34272, 207, 1) (34272, 207, 1)\n",
      "num_test 6854\n",
      "Historical Average ---- Our method\n",
      "Model\tHorizon\tMAE\tRMSE\tMAPE\n",
      "HA\t1\t4.15\t7.77\t12.90\n",
      "HA\t3\t4.15\t7.77\t12.90\n",
      "HA\t6\t4.15\t7.77\t12.90\n",
      "HA\t12\t4.15\t7.77\t12.90\n"
     ]
    }
   ],
   "source": [
    "def get_history_average(data):\n",
    "    num_nodes = 207\n",
    "    num_samples = data.shape[0] // num_nodes\n",
    "    \n",
    "    preds, labels = [], []\n",
    "    data_speed = data['speed'].values.reshape(-1, num_nodes, 1)  # correct!!!!\n",
    "    data_speedy = data['speed_y'].values.reshape(-1, num_nodes, 1) # correct!!!!\n",
    "    print(data_speed.shape, data_speedy.shape)\n",
    "    \n",
    "    num_test = round(num_samples * 0.2)  # 6854\n",
    "    print('num_test', num_test)\n",
    "    preds, labels = data_speedy[-num_test:], data_speed[-num_test:]\n",
    "    test_preds, test_labels = torch.from_numpy(preds), torch.from_numpy(labels)\n",
    "    rmse = masked_rmse_loss(test_preds, test_labels)\n",
    "    mape = masked_mape_loss(test_preds, test_labels)\n",
    "    mae = masked_mae_loss(test_preds, test_labels)\n",
    "    print('Historical Average ---- Our method')\n",
    "    print('\\t'.join(['Model', 'Horizon', 'MAE', 'RMSE', 'MAPE']))\n",
    "    for horizon in [1, 3, 6, 12]:\n",
    "        line = 'HA\\t%d\\t%.2f\\t%.2f\\t%.2f' % (horizon, mae, rmse, mape * 100)\n",
    "        print(line)\n",
    "        \n",
    "get_history_average(df_plus)"
   ]
  },
  {
   "cell_type": "code",
   "execution_count": 8,
   "id": "86eb3ac0-a551-4aad-8794-93dac1d59fbc",
   "metadata": {},
   "outputs": [
    {
     "name": "stdout",
     "output_type": "stream",
     "text": [
      "(6854, 207) (6854, 207)\n",
      "(1118799,) (299977,)\n",
      "(1118799,) (299977,)\n"
     ]
    }
   ],
   "source": [
    "y_pred, y_true = df_plus['speed_y'].values.reshape(-1, 207), df_plus['speed'].values.reshape(-1, 207)\n",
    "y_pred, y_true = y_pred[-6854:,], y_true[-6854:,]\n",
    "print(y_pred.shape, y_true.shape)\n",
    "normal_inds = (np.abs(y_pred-y_true) < 10.0)\n",
    "abnormal_inds = (np.abs(y_pred-y_true) > 10.0)\n",
    "y_true_normal, y_true_abnormal = y_true[normal_inds], y_true[abnormal_inds]\n",
    "y_pred_normal, y_pred_abnormal = y_pred[normal_inds], y_pred[abnormal_inds]\n",
    "print(y_true_normal.shape, y_true_abnormal.shape)\n",
    "print(y_pred_normal.shape, y_pred_abnormal.shape)"
   ]
  },
  {
   "cell_type": "code",
   "execution_count": 9,
   "id": "fee14840-b7a2-4bfb-8494-1f4139d477d9",
   "metadata": {},
   "outputs": [
    {
     "data": {
      "text/plain": [
       "(array([171831.,   1186.,   3975.,   6130.,   7704.,   8950.,   9619.,\n",
       "          9299.,   8700.,   7598.,   6325.,   5492.,   5146.,   4724.,\n",
       "          4558.,   4371.,   5594.,   9142.,  12192.,   7441.]),\n",
       " array([ 0. ,  3.5,  7. , 10.5, 14. , 17.5, 21. , 24.5, 28. , 31.5, 35. ,\n",
       "        38.5, 42. , 45.5, 49. , 52.5, 56. , 59.5, 63. , 66.5, 70. ]),\n",
       " <BarContainer object of 20 artists>)"
      ]
     },
     "execution_count": 9,
     "metadata": {},
     "output_type": "execute_result"
    },
    {
     "data": {
      "image/png": "[encoded data removed]",
      "text/plain": [
       "<Figure size 640x480 with 1 Axes>"
      ]
     },
     "metadata": {},
     "output_type": "display_data"
    }
   ],
   "source": [
    "plt.hist(y_true_abnormal, bins=20)"
   ]
  },
  {
   "cell_type": "code",
   "execution_count": 8,
   "id": "5d7b3f5a-4a1c-4a2d-b92e-c114c86eccfc",
   "metadata": {},
   "outputs": [
    {
     "data": {
      "text/plain": [
       "(array([  276.,  1666.,  4693.,  6277.,  8015.,  8853.,  9539.,  9213.,\n",
       "         8255.,  7426.,  6181.,  5349.,  4982.,  4723.,  4357.,  4416.,\n",
       "         5645.,  9162., 12041.,  7194.]),\n",
       " array([ 0.88888889,  4.34444444,  7.8       , 11.25555556, 14.71111111,\n",
       "        18.16666667, 21.62222222, 25.07777778, 28.53333333, 31.98888889,\n",
       "        35.44444444, 38.9       , 42.35555556, 45.81111111, 49.26666667,\n",
       "        52.72222222, 56.17777778, 59.63333333, 63.08888889, 66.54444444,\n",
       "        70.        ]),\n",
       " <BarContainer object of 20 artists>)"
      ]
     },
     "execution_count": 8,
     "metadata": {},
     "output_type": "execute_result"
    },
    {
     "data": {
      "image/png": "[encoded data removed]",
      "text/plain": [
       "<Figure size 432x288 with 1 Axes>"
      ]
     },
     "metadata": {
      "needs_background": "light"
     },
     "output_type": "display_data"
    }
   ],
   "source": [
    "y_true_abnormal_nozero = y_true_abnormal[y_true_abnormal!=0] # 除去0值看一下分布\n",
    "plt.hist(y_true_abnormal_nozero, bins=20)"
   ]
  },
  {
   "cell_type": "code",
   "execution_count": 9,
   "id": "f92bc10b-5630-463c-85e4-9a4634d6e1c0",
   "metadata": {},
   "outputs": [
    {
     "data": {
      "text/plain": [
       "(array([   57.,    69.,   202.,   649.,  1516.,  3053.,  4690.,  6180.,\n",
       "         8581., 10842., 12254., 13856., 15999., 17741., 20183., 21900.,\n",
       "        28602., 42886., 54645., 36071.]),\n",
       " array([ 4.87847222,  8.13454861, 11.390625  , 14.64670139, 17.90277778,\n",
       "        21.15885417, 24.41493056, 27.67100694, 30.92708333, 34.18315972,\n",
       "        37.43923611, 40.6953125 , 43.95138889, 47.20746528, 50.46354167,\n",
       "        53.71961806, 56.97569444, 60.23177083, 63.48784722, 66.74392361,\n",
       "        70.        ]),\n",
       " <BarContainer object of 20 artists>)"
      ]
     },
     "execution_count": 9,
     "metadata": {},
     "output_type": "execute_result"
    },
    {
     "data": {
      "image/png": "[encoded data removed]",
      "text/plain": [
       "<Figure size 432x288 with 1 Axes>"
      ]
     },
     "metadata": {
      "needs_background": "light"
     },
     "output_type": "display_data"
    }
   ],
   "source": [
    "plt.hist(y_pred_abnormal, bins=20)"
   ]
  },
  {
   "cell_type": "code",
   "execution_count": 10,
   "id": "8cad3818-b866-4ac6-b50a-3c680851348f",
   "metadata": {},
   "outputs": [
    {
     "data": {
      "text/plain": [
       "(array([7.30000e+01, 4.35000e+02, 1.76600e+03, 3.13800e+03, 5.28800e+03,\n",
       "        8.31500e+03, 9.27300e+03, 1.06240e+04, 1.30440e+04, 1.34440e+04,\n",
       "        1.20910e+04, 1.01750e+04, 1.55850e+04, 1.84910e+04, 2.93280e+04,\n",
       "        5.59730e+04, 1.12676e+05, 1.99853e+05, 3.07569e+05, 2.91658e+05]),\n",
       " array([ 0. ,  3.5,  7. , 10.5, 14. , 17.5, 21. , 24.5, 28. , 31.5, 35. ,\n",
       "        38.5, 42. , 45.5, 49. , 52.5, 56. , 59.5, 63. , 66.5, 70. ]),\n",
       " <BarContainer object of 20 artists>)"
      ]
     },
     "execution_count": 10,
     "metadata": {},
     "output_type": "execute_result"
    },
    {
     "data": {
      "image/png": "[encoded data removed]",
      "text/plain": [
       "<Figure size 432x288 with 1 Axes>"
      ]
     },
     "metadata": {
      "needs_background": "light"
     },
     "output_type": "display_data"
    }
   ],
   "source": [
    "plt.hist(y_true_normal, bins=20)"
   ]
  },
  {
   "cell_type": "code",
   "execution_count": 11,
   "id": "0a5807c4-6f13-42e9-a0ce-2e4da244f61c",
   "metadata": {},
   "outputs": [
    {
     "data": {
      "text/plain": [
       "(array([2.82000e+02, 1.00700e+03, 1.64000e+03, 3.51300e+03, 5.67000e+03,\n",
       "        8.82200e+03, 9.92600e+03, 1.21920e+04, 1.34850e+04, 1.34670e+04,\n",
       "        1.12700e+04, 1.14240e+04, 1.67420e+04, 2.35470e+04, 3.88950e+04,\n",
       "        7.18020e+04, 1.41542e+05, 2.32496e+05, 3.07759e+05, 1.93318e+05]),\n",
       " array([ 4.86805556,  8.12465278, 11.38125   , 14.63784722, 17.89444444,\n",
       "        21.15104167, 24.40763889, 27.66423611, 30.92083333, 34.17743056,\n",
       "        37.43402778, 40.690625  , 43.94722222, 47.20381944, 50.46041667,\n",
       "        53.71701389, 56.97361111, 60.23020833, 63.48680556, 66.74340278,\n",
       "        70.        ]),\n",
       " <BarContainer object of 20 artists>)"
      ]
     },
     "execution_count": 11,
     "metadata": {},
     "output_type": "execute_result"
    },
    {
     "data": {
      "image/png": "[encoded data removed]",
      "text/plain": [
       "<Figure size 432x288 with 1 Axes>"
      ]
     },
     "metadata": {
      "needs_background": "light"
     },
     "output_type": "display_data"
    }
   ],
   "source": [
    "plt.hist(y_pred_normal, bins=20)"
   ]
  },
  {
   "cell_type": "code",
   "execution_count": 12,
   "id": "9ce2b1e4-ac65-4f95-b00c-6db92940cfc8",
   "metadata": {},
   "outputs": [],
   "source": [
    "def calculate_normal_abnormal(data, mode, threshold):\n",
    "    y_pred, y_true = data['speed_y'].values.reshape(-1, 207), data['speed'].values.reshape(-1, 207)\n",
    "    y_pred, y_true = y_pred[-6854:,], y_true[-6854:,]\n",
    "    n_total = y_true.shape[0] * y_true.shape[1]\n",
    "    print(y_pred.shape, y_true.shape, n_total)\n",
    "    if mode == 'normal':\n",
    "        inds = (np.abs(y_pred-y_true) <= threshold)\n",
    "    else:\n",
    "        inds = (np.abs(y_pred-y_true) > threshold)\n",
    "    y_pred, y_true = y_pred[inds], y_true[inds]\n",
    "    print(y_pred.shape, y_true.shape, y_true.shape[0]/n_total * 100)\n",
    "    \n",
    "    mae = masked_mae(y_pred, y_true)\n",
    "    mape = masked_mape(y_pred, y_true)\n",
    "    rmse = masked_rmse(y_pred, y_true)\n",
    "    print('Historical Average with Threshold', threshold)\n",
    "    print('Horizon overall: mae: {:.4f}, mape: {:.4f}, rmse: {:.4f}'.format(mae, mape, rmse))\n",
    "\n",
    "    test_preds, test_labels = torch.from_numpy(y_pred), torch.from_numpy(y_true)\n",
    "    rmse = masked_rmse_loss(test_preds, test_labels)\n",
    "    mape = masked_mape_loss(test_preds, test_labels)\n",
    "    mae = masked_mae_loss(test_preds, test_labels)\n",
    "    print('Historical Average ---- Our method --- Torch Loss')\n",
    "    print('\\t'.join(['Model', 'Horizon', 'MAE', 'RMSE', 'MAPE']))\n",
    "    for horizon in [1, 3, 6, 12]:\n",
    "        line = 'HA\\t%d\\t%.2f\\t%.2f\\t%.2f' % (horizon, mae, rmse, mape * 100)\n",
    "        print(line)"
   ]
  },
  {
   "cell_type": "code",
   "execution_count": 13,
   "id": "f57a67b8-bd8e-4aea-9bbe-e53da1674a6a",
   "metadata": {},
   "outputs": [
    {
     "name": "stdout",
     "output_type": "stream",
     "text": [
      "(6854, 207) (6854, 207) 1418778\n",
      "(1118802,) (1118802,) 78.85673445739926\n",
      "Historical Average with Threshold 10.0\n",
      "Horizon overall: mae: 2.3099, mape: 0.0465, rmse: 3.2019\n",
      "Historical Average ---- Our method --- Torch Loss\n",
      "Model\tHorizon\tMAE\tRMSE\tMAPE\n",
      "HA\t1\t2.31\t3.20\t4.65\n",
      "HA\t3\t2.31\t3.20\t4.65\n",
      "HA\t6\t2.31\t3.20\t4.65\n",
      "HA\t12\t2.31\t3.20\t4.65\n"
     ]
    }
   ],
   "source": [
    "calculate_normal_abnormal(df_plus, 'normal', 10.0)"
   ]
  },
  {
   "cell_type": "code",
   "execution_count": 14,
   "id": "2ebc2ca8-e3a4-4ad5-a2ca-4516009aea01",
   "metadata": {},
   "outputs": [
    {
     "name": "stdout",
     "output_type": "stream",
     "text": [
      "(6854, 207) (6854, 207) 1418778\n",
      "(299976,) (299976,) 21.143265542600744\n",
      "Historical Average with Threshold 10.0\n",
      "Horizon overall: mae: 20.1575, mape: 0.8491, rmse: 22.3155\n",
      "Historical Average ---- Our method --- Torch Loss\n",
      "Model\tHorizon\tMAE\tRMSE\tMAPE\n",
      "HA\t1\t20.16\t22.32\t84.91\n",
      "HA\t3\t20.16\t22.32\t84.91\n",
      "HA\t6\t20.16\t22.32\t84.91\n",
      "HA\t12\t20.16\t22.32\t84.91\n"
     ]
    }
   ],
   "source": [
    "calculate_normal_abnormal(df_plus, 'abnormal', 10.0)"
   ]
  }
 ],
 "metadata": {
  "kernelspec": {
   "display_name": "Python 3",
   "language": "python",
   "name": "python3"
  },
  "language_info": {
   "codemirror_mode": {
    "name": "ipython",
    "version": 3
   },
   "file_extension": ".py",
   "mimetype": "text/x-python",
   "name": "python",
   "nbconvert_exporter": "python",
   "pygments_lexer": "ipython3",
   "version": "3.9.17"
  }
 },
 "nbformat": 4,
 "nbformat_minor": 5
}
